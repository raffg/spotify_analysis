{
 "cells": [
  {
   "cell_type": "code",
   "execution_count": 1,
   "metadata": {},
   "outputs": [],
   "source": [
    "import pandas as pd"
   ]
  },
  {
   "cell_type": "code",
   "execution_count": 2,
   "metadata": {},
   "outputs": [],
   "source": [
    "track_list = []"
   ]
  },
  {
   "cell_type": "code",
   "execution_count": 3,
   "metadata": {},
   "outputs": [],
   "source": [
    "track_list.append(\n",
    "{\n",
    "    \"Artist\": 'Andy Williams',\n",
    "    \"Track Name\": \"It's the Most Wonderful Time of the Year\",\n",
    "  \"danceability\": 0.194,\n",
    "  \"energy\": 0.599,\n",
    "  \"key\": 2,\n",
    "  \"loudness\": -6.897,\n",
    "  \"mode\": 1,\n",
    "  \"speechiness\": 0.0368,\n",
    "  \"acousticness\": 0.727,\n",
    "  \"instrumentalness\": 0,\n",
    "  \"liveness\": 0.194,\n",
    "  \"valence\": 0.724,\n",
    "  \"tempo\": 202.059,\n",
    "  \"type\": \"audio_features\",\n",
    "  \"id\": \"4DQ920CEDAOzyxeWxoidkN\",\n",
    "  \"uri\": \"spotify:track:4DQ920CEDAOzyxeWxoidkN\",\n",
    "  \"track_href\": \"https://api.spotify.com/v1/tracks/4DQ920CEDAOzyxeWxoidkN\",\n",
    "  \"analysis_url\": \"https://api.spotify.com/v1/audio-analysis/4DQ920CEDAOzyxeWxoidkN\",\n",
    "  \"duration_ms\": 165933,\n",
    "  \"time_signature\": 3\n",
    "})"
   ]
  },
  {
   "cell_type": "code",
   "execution_count": 4,
   "metadata": {},
   "outputs": [],
   "source": [
    "track_list.append(\n",
    "{\n",
    "    \"Artist\": 'Adele',\n",
    "    \"Track Name\": 'Make You Feel My Love',\n",
    "  \"danceability\": 0.552,\n",
    "  \"energy\": 0.18,\n",
    "  \"key\": 10,\n",
    "  \"loudness\": -10.583,\n",
    "  \"mode\": 1,\n",
    "  \"speechiness\": 0.0293,\n",
    "  \"acousticness\": 0.894,\n",
    "  \"instrumentalness\": 0.000393,\n",
    "  \"liveness\": 0.105,\n",
    "  \"valence\": 0.0896,\n",
    "  \"tempo\": 76.995,\n",
    "  \"type\": \"audio_features\",\n",
    "  \"id\": \"6P7tTFzn6oNa0GL8w8oazE\",\n",
    "  \"uri\": \"spotify:track:6P7tTFzn6oNa0GL8w8oazE\",\n",
    "  \"track_href\": \"https://api.spotify.com/v1/tracks/6P7tTFzn6oNa0GL8w8oazE\",\n",
    "  \"analysis_url\": \"https://api.spotify.com/v1/audio-analysis/6P7tTFzn6oNa0GL8w8oazE\",\n",
    "  \"duration_ms\": 212040,\n",
    "  \"time_signature\": 4\n",
    "})"
   ]
  },
  {
   "cell_type": "code",
   "execution_count": 5,
   "metadata": {},
   "outputs": [],
   "source": [
    "track_list.append(\n",
    "{\n",
    "    \"Artist\": 'Simon & Garfunkel',\n",
    "    \"Track Name\": 'Bridge Over Troubled Water',\n",
    "  \"danceability\": 0.149,\n",
    "  \"energy\": 0.206,\n",
    "  \"key\": 3,\n",
    "  \"loudness\": -13.888,\n",
    "  \"mode\": 1,\n",
    "  \"speechiness\": 0.0323,\n",
    "  \"acousticness\": 0.822,\n",
    "  \"instrumentalness\": 0.000649,\n",
    "  \"liveness\": 0.115,\n",
    "  \"valence\": 0.264,\n",
    "  \"tempo\": 79.764,\n",
    "  \"type\": \"audio_features\",\n",
    "  \"id\": \"6l8EbYRtQMgKOyc1gcDHF9\",\n",
    "  \"uri\": \"spotify:track:6l8EbYRtQMgKOyc1gcDHF9\",\n",
    "  \"track_href\": \"https://api.spotify.com/v1/tracks/6l8EbYRtQMgKOyc1gcDHF9\",\n",
    "  \"analysis_url\": \"https://api.spotify.com/v1/audio-analysis/6l8EbYRtQMgKOyc1gcDHF9\",\n",
    "  \"duration_ms\": 293120,\n",
    "  \"time_signature\": 4\n",
    "})"
   ]
  },
  {
   "cell_type": "code",
   "execution_count": 6,
   "metadata": {},
   "outputs": [],
   "source": [
    "track_list.append(\n",
    "{\n",
    "    \"Artist\": 'Nina Simone',\n",
    "    \"Track Name\": 'I Put A Spell On You',\n",
    "  \"danceability\": 0.42,\n",
    "  \"energy\": 0.398,\n",
    "  \"key\": 6,\n",
    "  \"loudness\": -9.13,\n",
    "  \"mode\": 0,\n",
    "  \"speechiness\": 0.0296,\n",
    "  \"acousticness\": 0.755,\n",
    "  \"instrumentalness\": 0.000537,\n",
    "  \"liveness\": 0.172,\n",
    "  \"valence\": 0.364,\n",
    "  \"tempo\": 88.897,\n",
    "  \"type\": \"audio_features\",\n",
    "  \"id\": \"0sjxRg1VlYfx4YG7uxurrq\",\n",
    "  \"uri\": \"spotify:track:0sjxRg1VlYfx4YG7uxurrq\",\n",
    "  \"track_href\": \"https://api.spotify.com/v1/tracks/0sjxRg1VlYfx4YG7uxurrq\",\n",
    "  \"analysis_url\": \"https://api.spotify.com/v1/audio-analysis/0sjxRg1VlYfx4YG7uxurrq\",\n",
    "  \"duration_ms\": 155027,\n",
    "  \"time_signature\": 3\n",
    "})"
   ]
  },
  {
   "cell_type": "code",
   "execution_count": 7,
   "metadata": {},
   "outputs": [],
   "source": [
    "track_list.append(\n",
    "{\n",
    "    \"Artist\": 'The Beatles',\n",
    "    \"Track Name\": 'Lucy In The Sky With Diamonds',\n",
    "  \"danceability\": 0.311,\n",
    "  \"energy\": 0.325,\n",
    "  \"key\": 2,\n",
    "  \"loudness\": -9.042,\n",
    "  \"mode\": 1,\n",
    "  \"speechiness\": 0.0283,\n",
    "  \"acousticness\": 0.0469,\n",
    "  \"instrumentalness\": 0,\n",
    "  \"liveness\": 0.139,\n",
    "  \"valence\": 0.668,\n",
    "  \"tempo\": 65.09,\n",
    "  \"type\": \"audio_features\",\n",
    "  \"id\": \"25yQPHgC35WNnnOUqFhgVR\",\n",
    "  \"uri\": \"spotify:track:25yQPHgC35WNnnOUqFhgVR\",\n",
    "  \"track_href\": \"https://api.spotify.com/v1/tracks/25yQPHgC35WNnnOUqFhgVR\",\n",
    "  \"analysis_url\": \"https://api.spotify.com/v1/audio-analysis/25yQPHgC35WNnnOUqFhgVR\",\n",
    "  \"duration_ms\": 208467,\n",
    "  \"time_signature\": 1\n",
    "})"
   ]
  },
  {
   "cell_type": "code",
   "execution_count": 8,
   "metadata": {},
   "outputs": [],
   "source": [
    "track_list.append(\n",
    "{\n",
    "    \"Artist\": 'Luis Fonsi',\n",
    "    \"Track Name\": 'Despacito',\n",
    "  \"danceability\": 0.655,\n",
    "  \"energy\": 0.797,\n",
    "  \"key\": 2,\n",
    "  \"loudness\": -4.787,\n",
    "  \"mode\": 1,\n",
    "  \"speechiness\": 0.153,\n",
    "  \"acousticness\": 0.198,\n",
    "  \"instrumentalness\": 0,\n",
    "  \"liveness\": 0.067,\n",
    "  \"valence\": 0.839,\n",
    "  \"tempo\": 177.928,\n",
    "  \"type\": \"audio_features\",\n",
    "  \"id\": \"6habFhsOp2NvshLv26DqMb\",\n",
    "  \"uri\": \"spotify:track:6habFhsOp2NvshLv26DqMb\",\n",
    "  \"track_href\": \"https://api.spotify.com/v1/tracks/6habFhsOp2NvshLv26DqMb\",\n",
    "  \"analysis_url\": \"https://api.spotify.com/v1/audio-analysis/6habFhsOp2NvshLv26DqMb\",\n",
    "  \"duration_ms\": 229360,\n",
    "  \"time_signature\": 4\n",
    "})"
   ]
  },
  {
   "cell_type": "code",
   "execution_count": 9,
   "metadata": {},
   "outputs": [],
   "source": [
    "track_list.append(\n",
    "{\n",
    "    \"Artist\": 'Taylor Swift',\n",
    "    \"Track Name\": 'Shake It Off',\n",
    "  \"danceability\": 0.648,\n",
    "  \"energy\": 0.785,\n",
    "  \"key\": 7,\n",
    "  \"loudness\": -5.414,\n",
    "  \"mode\": 1,\n",
    "  \"speechiness\": 0.165,\n",
    "  \"acousticness\": 0.0561,\n",
    "  \"instrumentalness\": 0,\n",
    "  \"liveness\": 0.148,\n",
    "  \"valence\": 0.943,\n",
    "  \"tempo\": 160.02,\n",
    "  \"type\": \"audio_features\",\n",
    "  \"id\": \"5xTtaWoae3wi06K5WfVUUH\",\n",
    "  \"uri\": \"spotify:track:5xTtaWoae3wi06K5WfVUUH\",\n",
    "  \"track_href\": \"https://api.spotify.com/v1/tracks/5xTtaWoae3wi06K5WfVUUH\",\n",
    "  \"analysis_url\": \"https://api.spotify.com/v1/audio-analysis/5xTtaWoae3wi06K5WfVUUH\",\n",
    "  \"duration_ms\": 219200,\n",
    "  \"time_signature\": 4\n",
    "})"
   ]
  },
  {
   "cell_type": "code",
   "execution_count": 10,
   "metadata": {},
   "outputs": [],
   "source": [
    "track_list.append(\n",
    "{\n",
    "    \"Artist\": 'Outkast',\n",
    "    \"Track Name\": 'Hey Ya!',\n",
    "  \"danceability\": 0.728,\n",
    "  \"energy\": 0.974,\n",
    "  \"key\": 4,\n",
    "  \"loudness\": -2.261,\n",
    "  \"mode\": 0,\n",
    "  \"speechiness\": 0.0665,\n",
    "  \"acousticness\": 0.103,\n",
    "  \"instrumentalness\": 0.000532,\n",
    "  \"liveness\": 0.175,\n",
    "  \"valence\": 0.965,\n",
    "  \"tempo\": 79.526,\n",
    "  \"type\": \"audio_features\",\n",
    "  \"id\": \"2PpruBYCo4H7WOBJ7Q2EwM\",\n",
    "  \"uri\": \"spotify:track:2PpruBYCo4H7WOBJ7Q2EwM\",\n",
    "  \"track_href\": \"https://api.spotify.com/v1/tracks/2PpruBYCo4H7WOBJ7Q2EwM\",\n",
    "  \"analysis_url\": \"https://api.spotify.com/v1/audio-analysis/2PpruBYCo4H7WOBJ7Q2EwM\",\n",
    "  \"duration_ms\": 235213,\n",
    "  \"time_signature\": 4\n",
    "})"
   ]
  },
  {
   "cell_type": "code",
   "execution_count": 11,
   "metadata": {},
   "outputs": [],
   "source": [
    "track_list.append(\n",
    "{\n",
    "    \"Artist\": 'Henryk Górecki',\n",
    "    \"Track Name\": 'Symphony No. 3, Op. 36: II. Lento e Largo - Tranquillissimo',\n",
    "  \"danceability\": 0.0632,\n",
    "  \"energy\": 0.0765,\n",
    "  \"key\": 10,\n",
    "  \"loudness\": -19.785,\n",
    "  \"mode\": 0,\n",
    "  \"speechiness\": 0.0433,\n",
    "  \"acousticness\": 0.889,\n",
    "  \"instrumentalness\": 0.473,\n",
    "  \"liveness\": 0.109,\n",
    "  \"valence\": 0.028,\n",
    "  \"tempo\": 69.684,\n",
    "  \"type\": \"audio_features\",\n",
    "  \"id\": \"4iCn374fZg5UbGD1xFNo1m\",\n",
    "  \"uri\": \"spotify:track:4iCn374fZg5UbGD1xFNo1m\",\n",
    "  \"track_href\": \"https://api.spotify.com/v1/tracks/4iCn374fZg5UbGD1xFNo1m\",\n",
    "  \"analysis_url\": \"https://api.spotify.com/v1/audio-analysis/4iCn374fZg5UbGD1xFNo1m\",\n",
    "  \"duration_ms\": 567987,\n",
    "  \"time_signature\": 4\n",
    "})"
   ]
  },
  {
   "cell_type": "code",
   "execution_count": 12,
   "metadata": {},
   "outputs": [],
   "source": [
    "track_list.append(\n",
    "{\n",
    "    \"Artist\": 'Pharrel Williams',\n",
    "    \"Track Name\": 'Happy (From - \"Despicable Me 2\")',\n",
    "  \"danceability\": 0.647,\n",
    "  \"energy\": 0.822,\n",
    "  \"key\": 5,\n",
    "  \"loudness\": -4.662,\n",
    "  \"mode\": 0,\n",
    "  \"speechiness\": 0.183,\n",
    "  \"acousticness\": 0.219,\n",
    "  \"instrumentalness\": 0,\n",
    "  \"liveness\": 0.0908,\n",
    "  \"valence\": 0.962,\n",
    "  \"tempo\": 160.019,\n",
    "  \"type\": \"audio_features\",\n",
    "  \"id\": \"60nZcImufyMA1MKQY3dcCH\",\n",
    "  \"uri\": \"spotify:track:60nZcImufyMA1MKQY3dcCH\",\n",
    "  \"track_href\": \"https://api.spotify.com/v1/tracks/60nZcImufyMA1MKQY3dcCH\",\n",
    "  \"analysis_url\": \"https://api.spotify.com/v1/audio-analysis/60nZcImufyMA1MKQY3dcCH\",\n",
    "  \"duration_ms\": 232720,\n",
    "  \"time_signature\": 4\n",
    "})"
   ]
  },
  {
   "cell_type": "code",
   "execution_count": 13,
   "metadata": {},
   "outputs": [
    {
     "data": {
      "text/plain": [
       "10"
      ]
     },
     "execution_count": 13,
     "metadata": {},
     "output_type": "execute_result"
    }
   ],
   "source": [
    "len(track_list)"
   ]
  },
  {
   "cell_type": "code",
   "execution_count": 14,
   "metadata": {},
   "outputs": [],
   "source": [
    "df_songs = pd.DataFrame.from_dict(track_list)\n",
    "df_songs.to_csv('songs.csv', index=False)"
   ]
  },
  {
   "cell_type": "code",
   "execution_count": null,
   "metadata": {},
   "outputs": [],
   "source": []
  }
 ],
 "metadata": {
  "kernelspec": {
   "display_name": "Python 3",
   "language": "python",
   "name": "python3"
  },
  "language_info": {
   "codemirror_mode": {
    "name": "ipython",
    "version": 3
   },
   "file_extension": ".py",
   "mimetype": "text/x-python",
   "name": "python",
   "nbconvert_exporter": "python",
   "pygments_lexer": "ipython3",
   "version": "3.7.4"
  }
 },
 "nbformat": 4,
 "nbformat_minor": 4
}
